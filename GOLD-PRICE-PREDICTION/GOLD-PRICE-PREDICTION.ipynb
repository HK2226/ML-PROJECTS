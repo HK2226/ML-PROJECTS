{
 "cells": [
  {
   "cell_type": "markdown",
   "id": "7b4f4775",
   "metadata": {},
   "source": [
    "# Gold price prediction\n"
   ]
  },
  {
   "cell_type": "code",
   "execution_count": 1,
   "id": "dab22566",
   "metadata": {},
   "outputs": [],
   "source": [
    "# importing libraries\n",
    "\n",
    "import pandas as pd\n",
    "import numpy as np\n",
    "import matplotlib.pyplot as plt\n",
    "import seaborn as sns\n",
    "from sklearn.model_selection import train_test_split\n",
    "from sklearn.ensemble import RandomForestRegressor #this is a regression problem\n",
    "from sklearn import metrics\n",
    "import warnings\n",
    "warnings.filterwarnings('ignore')"
   ]
  },
  {
   "cell_type": "markdown",
   "id": "9c0b0216",
   "metadata": {},
   "source": [
    "## Importing the data \n",
    "* Ten years of data\n",
    "* Got this dataset from Kaggle"
   ]
  },
  {
   "cell_type": "code",
   "execution_count": 2,
   "id": "d7211726",
   "metadata": {},
   "outputs": [
    {
     "data": {
      "text/html": [
       "<div>\n",
       "<style scoped>\n",
       "    .dataframe tbody tr th:only-of-type {\n",
       "        vertical-align: middle;\n",
       "    }\n",
       "\n",
       "    .dataframe tbody tr th {\n",
       "        vertical-align: top;\n",
       "    }\n",
       "\n",
       "    .dataframe thead th {\n",
       "        text-align: right;\n",
       "    }\n",
       "</style>\n",
       "<table border=\"1\" class=\"dataframe\">\n",
       "  <thead>\n",
       "    <tr style=\"text-align: right;\">\n",
       "      <th></th>\n",
       "      <th>Date</th>\n",
       "      <th>SPX</th>\n",
       "      <th>GLD</th>\n",
       "      <th>USO</th>\n",
       "      <th>SLV</th>\n",
       "      <th>EUR/USD</th>\n",
       "    </tr>\n",
       "  </thead>\n",
       "  <tbody>\n",
       "    <tr>\n",
       "      <th>0</th>\n",
       "      <td>1/2/2008</td>\n",
       "      <td>1447.160034</td>\n",
       "      <td>84.860001</td>\n",
       "      <td>78.470001</td>\n",
       "      <td>15.1800</td>\n",
       "      <td>1.471692</td>\n",
       "    </tr>\n",
       "    <tr>\n",
       "      <th>1</th>\n",
       "      <td>1/3/2008</td>\n",
       "      <td>1447.160034</td>\n",
       "      <td>85.570000</td>\n",
       "      <td>78.370003</td>\n",
       "      <td>15.2850</td>\n",
       "      <td>1.474491</td>\n",
       "    </tr>\n",
       "    <tr>\n",
       "      <th>2</th>\n",
       "      <td>1/4/2008</td>\n",
       "      <td>1411.630005</td>\n",
       "      <td>85.129997</td>\n",
       "      <td>77.309998</td>\n",
       "      <td>15.1670</td>\n",
       "      <td>1.475492</td>\n",
       "    </tr>\n",
       "    <tr>\n",
       "      <th>3</th>\n",
       "      <td>1/7/2008</td>\n",
       "      <td>1416.180054</td>\n",
       "      <td>84.769997</td>\n",
       "      <td>75.500000</td>\n",
       "      <td>15.0530</td>\n",
       "      <td>1.468299</td>\n",
       "    </tr>\n",
       "    <tr>\n",
       "      <th>4</th>\n",
       "      <td>1/8/2008</td>\n",
       "      <td>1390.189941</td>\n",
       "      <td>86.779999</td>\n",
       "      <td>76.059998</td>\n",
       "      <td>15.5900</td>\n",
       "      <td>1.557099</td>\n",
       "    </tr>\n",
       "    <tr>\n",
       "      <th>...</th>\n",
       "      <td>...</td>\n",
       "      <td>...</td>\n",
       "      <td>...</td>\n",
       "      <td>...</td>\n",
       "      <td>...</td>\n",
       "      <td>...</td>\n",
       "    </tr>\n",
       "    <tr>\n",
       "      <th>2285</th>\n",
       "      <td>5/8/2018</td>\n",
       "      <td>2671.919922</td>\n",
       "      <td>124.589996</td>\n",
       "      <td>14.060000</td>\n",
       "      <td>15.5100</td>\n",
       "      <td>1.186789</td>\n",
       "    </tr>\n",
       "    <tr>\n",
       "      <th>2286</th>\n",
       "      <td>5/9/2018</td>\n",
       "      <td>2697.790039</td>\n",
       "      <td>124.330002</td>\n",
       "      <td>14.370000</td>\n",
       "      <td>15.5300</td>\n",
       "      <td>1.184722</td>\n",
       "    </tr>\n",
       "    <tr>\n",
       "      <th>2287</th>\n",
       "      <td>5/10/2018</td>\n",
       "      <td>2723.070068</td>\n",
       "      <td>125.180000</td>\n",
       "      <td>14.410000</td>\n",
       "      <td>15.7400</td>\n",
       "      <td>1.191753</td>\n",
       "    </tr>\n",
       "    <tr>\n",
       "      <th>2288</th>\n",
       "      <td>5/14/2018</td>\n",
       "      <td>2730.129883</td>\n",
       "      <td>124.489998</td>\n",
       "      <td>14.380000</td>\n",
       "      <td>15.5600</td>\n",
       "      <td>1.193118</td>\n",
       "    </tr>\n",
       "    <tr>\n",
       "      <th>2289</th>\n",
       "      <td>5/16/2018</td>\n",
       "      <td>2725.780029</td>\n",
       "      <td>122.543800</td>\n",
       "      <td>14.405800</td>\n",
       "      <td>15.4542</td>\n",
       "      <td>1.182033</td>\n",
       "    </tr>\n",
       "  </tbody>\n",
       "</table>\n",
       "<p>2290 rows × 6 columns</p>\n",
       "</div>"
      ],
      "text/plain": [
       "           Date          SPX         GLD        USO      SLV   EUR/USD\n",
       "0      1/2/2008  1447.160034   84.860001  78.470001  15.1800  1.471692\n",
       "1      1/3/2008  1447.160034   85.570000  78.370003  15.2850  1.474491\n",
       "2      1/4/2008  1411.630005   85.129997  77.309998  15.1670  1.475492\n",
       "3      1/7/2008  1416.180054   84.769997  75.500000  15.0530  1.468299\n",
       "4      1/8/2008  1390.189941   86.779999  76.059998  15.5900  1.557099\n",
       "...         ...          ...         ...        ...      ...       ...\n",
       "2285   5/8/2018  2671.919922  124.589996  14.060000  15.5100  1.186789\n",
       "2286   5/9/2018  2697.790039  124.330002  14.370000  15.5300  1.184722\n",
       "2287  5/10/2018  2723.070068  125.180000  14.410000  15.7400  1.191753\n",
       "2288  5/14/2018  2730.129883  124.489998  14.380000  15.5600  1.193118\n",
       "2289  5/16/2018  2725.780029  122.543800  14.405800  15.4542  1.182033\n",
       "\n",
       "[2290 rows x 6 columns]"
      ]
     },
     "execution_count": 2,
     "metadata": {},
     "output_type": "execute_result"
    }
   ],
   "source": [
    "# load the dataset using panda\n",
    "\n",
    "gold_value = pd.read_csv(\"gld_price_data.csv\")\n",
    "\n",
    "gold_value"
   ]
  },
  {
   "cell_type": "markdown",
   "id": "87b2e8bc",
   "metadata": {},
   "source": [
    "## Analysing the dataset"
   ]
  },
  {
   "cell_type": "markdown",
   "id": "5da5c931",
   "metadata": {},
   "source": [
    "### Size of the dataset"
   ]
  },
  {
   "cell_type": "code",
   "execution_count": 3,
   "id": "40969263",
   "metadata": {},
   "outputs": [
    {
     "data": {
      "text/plain": [
       "(2290, 6)"
      ]
     },
     "execution_count": 3,
     "metadata": {},
     "output_type": "execute_result"
    }
   ],
   "source": [
    "gold_value.shape"
   ]
  },
  {
   "cell_type": "markdown",
   "id": "c686057c",
   "metadata": {},
   "source": [
    "### Checking whether there are string types\n",
    "* All are numeric"
   ]
  },
  {
   "cell_type": "code",
   "execution_count": 4,
   "id": "23290154",
   "metadata": {},
   "outputs": [
    {
     "data": {
      "text/plain": [
       "Date        object\n",
       "SPX        float64\n",
       "GLD        float64\n",
       "USO        float64\n",
       "SLV        float64\n",
       "EUR/USD    float64\n",
       "dtype: object"
      ]
     },
     "execution_count": 4,
     "metadata": {},
     "output_type": "execute_result"
    }
   ],
   "source": [
    "gold_value.dtypes "
   ]
  },
  {
   "cell_type": "markdown",
   "id": "15a4f3b7",
   "metadata": {},
   "source": [
    "### Checking the number of NaN\n",
    "* All cells are filled"
   ]
  },
  {
   "cell_type": "code",
   "execution_count": 5,
   "id": "8317be9a",
   "metadata": {},
   "outputs": [
    {
     "data": {
      "text/plain": [
       "Date       0\n",
       "SPX        0\n",
       "GLD        0\n",
       "USO        0\n",
       "SLV        0\n",
       "EUR/USD    0\n",
       "dtype: int64"
      ]
     },
     "execution_count": 5,
     "metadata": {},
     "output_type": "execute_result"
    }
   ],
   "source": [
    "gold_value.isna().sum()"
   ]
  },
  {
   "cell_type": "markdown",
   "id": "f621ed58",
   "metadata": {},
   "source": [
    "### Getting Statistical information from the data"
   ]
  },
  {
   "cell_type": "code",
   "execution_count": 6,
   "id": "de23d76a",
   "metadata": {},
   "outputs": [
    {
     "data": {
      "text/html": [
       "<div>\n",
       "<style scoped>\n",
       "    .dataframe tbody tr th:only-of-type {\n",
       "        vertical-align: middle;\n",
       "    }\n",
       "\n",
       "    .dataframe tbody tr th {\n",
       "        vertical-align: top;\n",
       "    }\n",
       "\n",
       "    .dataframe thead th {\n",
       "        text-align: right;\n",
       "    }\n",
       "</style>\n",
       "<table border=\"1\" class=\"dataframe\">\n",
       "  <thead>\n",
       "    <tr style=\"text-align: right;\">\n",
       "      <th></th>\n",
       "      <th>SPX</th>\n",
       "      <th>GLD</th>\n",
       "      <th>USO</th>\n",
       "      <th>SLV</th>\n",
       "      <th>EUR/USD</th>\n",
       "    </tr>\n",
       "  </thead>\n",
       "  <tbody>\n",
       "    <tr>\n",
       "      <th>count</th>\n",
       "      <td>2290.000000</td>\n",
       "      <td>2290.000000</td>\n",
       "      <td>2290.000000</td>\n",
       "      <td>2290.000000</td>\n",
       "      <td>2290.000000</td>\n",
       "    </tr>\n",
       "    <tr>\n",
       "      <th>mean</th>\n",
       "      <td>1654.315776</td>\n",
       "      <td>122.732875</td>\n",
       "      <td>31.842221</td>\n",
       "      <td>20.084997</td>\n",
       "      <td>1.283653</td>\n",
       "    </tr>\n",
       "    <tr>\n",
       "      <th>std</th>\n",
       "      <td>519.111540</td>\n",
       "      <td>23.283346</td>\n",
       "      <td>19.523517</td>\n",
       "      <td>7.092566</td>\n",
       "      <td>0.131547</td>\n",
       "    </tr>\n",
       "    <tr>\n",
       "      <th>min</th>\n",
       "      <td>676.530029</td>\n",
       "      <td>70.000000</td>\n",
       "      <td>7.960000</td>\n",
       "      <td>8.850000</td>\n",
       "      <td>1.039047</td>\n",
       "    </tr>\n",
       "    <tr>\n",
       "      <th>25%</th>\n",
       "      <td>1239.874969</td>\n",
       "      <td>109.725000</td>\n",
       "      <td>14.380000</td>\n",
       "      <td>15.570000</td>\n",
       "      <td>1.171313</td>\n",
       "    </tr>\n",
       "    <tr>\n",
       "      <th>50%</th>\n",
       "      <td>1551.434998</td>\n",
       "      <td>120.580002</td>\n",
       "      <td>33.869999</td>\n",
       "      <td>17.268500</td>\n",
       "      <td>1.303297</td>\n",
       "    </tr>\n",
       "    <tr>\n",
       "      <th>75%</th>\n",
       "      <td>2073.010070</td>\n",
       "      <td>132.840004</td>\n",
       "      <td>37.827501</td>\n",
       "      <td>22.882499</td>\n",
       "      <td>1.369971</td>\n",
       "    </tr>\n",
       "    <tr>\n",
       "      <th>max</th>\n",
       "      <td>2872.870117</td>\n",
       "      <td>184.589996</td>\n",
       "      <td>117.480003</td>\n",
       "      <td>47.259998</td>\n",
       "      <td>1.598798</td>\n",
       "    </tr>\n",
       "  </tbody>\n",
       "</table>\n",
       "</div>"
      ],
      "text/plain": [
       "               SPX          GLD          USO          SLV      EUR/USD\n",
       "count  2290.000000  2290.000000  2290.000000  2290.000000  2290.000000\n",
       "mean   1654.315776   122.732875    31.842221    20.084997     1.283653\n",
       "std     519.111540    23.283346    19.523517     7.092566     0.131547\n",
       "min     676.530029    70.000000     7.960000     8.850000     1.039047\n",
       "25%    1239.874969   109.725000    14.380000    15.570000     1.171313\n",
       "50%    1551.434998   120.580002    33.869999    17.268500     1.303297\n",
       "75%    2073.010070   132.840004    37.827501    22.882499     1.369971\n",
       "max    2872.870117   184.589996   117.480003    47.259998     1.598798"
      ]
     },
     "execution_count": 6,
     "metadata": {},
     "output_type": "execute_result"
    }
   ],
   "source": [
    "gold_value.describe()"
   ]
  },
  {
   "cell_type": "markdown",
   "id": "7c2ab5bb",
   "metadata": {},
   "source": [
    "### Analysing the correlation"
   ]
  },
  {
   "cell_type": "code",
   "execution_count": 7,
   "id": "f9d1c851",
   "metadata": {},
   "outputs": [
    {
     "data": {
      "text/html": [
       "<div>\n",
       "<style scoped>\n",
       "    .dataframe tbody tr th:only-of-type {\n",
       "        vertical-align: middle;\n",
       "    }\n",
       "\n",
       "    .dataframe tbody tr th {\n",
       "        vertical-align: top;\n",
       "    }\n",
       "\n",
       "    .dataframe thead th {\n",
       "        text-align: right;\n",
       "    }\n",
       "</style>\n",
       "<table border=\"1\" class=\"dataframe\">\n",
       "  <thead>\n",
       "    <tr style=\"text-align: right;\">\n",
       "      <th></th>\n",
       "      <th>SPX</th>\n",
       "      <th>GLD</th>\n",
       "      <th>USO</th>\n",
       "      <th>SLV</th>\n",
       "      <th>EUR/USD</th>\n",
       "    </tr>\n",
       "  </thead>\n",
       "  <tbody>\n",
       "    <tr>\n",
       "      <th>SPX</th>\n",
       "      <td>1.000000</td>\n",
       "      <td>0.049345</td>\n",
       "      <td>-0.591573</td>\n",
       "      <td>-0.274055</td>\n",
       "      <td>-0.672017</td>\n",
       "    </tr>\n",
       "    <tr>\n",
       "      <th>GLD</th>\n",
       "      <td>0.049345</td>\n",
       "      <td>1.000000</td>\n",
       "      <td>-0.186360</td>\n",
       "      <td>0.866632</td>\n",
       "      <td>-0.024375</td>\n",
       "    </tr>\n",
       "    <tr>\n",
       "      <th>USO</th>\n",
       "      <td>-0.591573</td>\n",
       "      <td>-0.186360</td>\n",
       "      <td>1.000000</td>\n",
       "      <td>0.167547</td>\n",
       "      <td>0.829317</td>\n",
       "    </tr>\n",
       "    <tr>\n",
       "      <th>SLV</th>\n",
       "      <td>-0.274055</td>\n",
       "      <td>0.866632</td>\n",
       "      <td>0.167547</td>\n",
       "      <td>1.000000</td>\n",
       "      <td>0.321631</td>\n",
       "    </tr>\n",
       "    <tr>\n",
       "      <th>EUR/USD</th>\n",
       "      <td>-0.672017</td>\n",
       "      <td>-0.024375</td>\n",
       "      <td>0.829317</td>\n",
       "      <td>0.321631</td>\n",
       "      <td>1.000000</td>\n",
       "    </tr>\n",
       "  </tbody>\n",
       "</table>\n",
       "</div>"
      ],
      "text/plain": [
       "              SPX       GLD       USO       SLV   EUR/USD\n",
       "SPX      1.000000  0.049345 -0.591573 -0.274055 -0.672017\n",
       "GLD      0.049345  1.000000 -0.186360  0.866632 -0.024375\n",
       "USO     -0.591573 -0.186360  1.000000  0.167547  0.829317\n",
       "SLV     -0.274055  0.866632  0.167547  1.000000  0.321631\n",
       "EUR/USD -0.672017 -0.024375  0.829317  0.321631  1.000000"
      ]
     },
     "execution_count": 7,
     "metadata": {},
     "output_type": "execute_result"
    }
   ],
   "source": [
    "corr1 = gold_value.corr(method='pearson')\n",
    "\n",
    "corr1"
   ]
  },
  {
   "cell_type": "markdown",
   "id": "0d35e9d3",
   "metadata": {},
   "source": [
    "#### This table is hard to understand \n",
    "#### Construct a heat map"
   ]
  },
  {
   "cell_type": "code",
   "execution_count": 8,
   "id": "627c0cad",
   "metadata": {},
   "outputs": [
    {
     "data": {
      "image/png": "[encoded data removed]",
      "text/plain": [
       "<Figure size 720x720 with 2 Axes>"
      ]
     },
     "metadata": {
      "needs_background": "light"
     },
     "output_type": "display_data"
    }
   ],
   "source": [
    "plt.figure(figsize = (10,10))\n",
    "sns.heatmap(corr1, cbar=True, square=True, fmt='.1f',annot=True, annot_kws={'size':10}, cmap='Greys');\n"
   ]
  },
  {
   "cell_type": "markdown",
   "id": "22d723e1",
   "metadata": {},
   "source": [
    "## White (Negative corr) - - - Black (Positive corr)\n",
    "### If the value are:\n",
    "* +ve then it is positively correlated ,ex: SLV AND GLD\n",
    "* -ve then it is negatively correlated ,ex: SPX AND USO"
   ]
  },
  {
   "cell_type": "markdown",
   "id": "d95d3c1f",
   "metadata": {},
   "source": [
    "### GOLD CORRELEATION WITH OTHER FEATURES"
   ]
  },
  {
   "cell_type": "code",
   "execution_count": 9,
   "id": "7a19c5a7",
   "metadata": {},
   "outputs": [
    {
     "data": {
      "text/plain": [
       "SPX        0.049345\n",
       "GLD        1.000000\n",
       "USO       -0.186360\n",
       "SLV        0.866632\n",
       "EUR/USD   -0.024375\n",
       "Name: GLD, dtype: float64"
      ]
     },
     "execution_count": 9,
     "metadata": {},
     "output_type": "execute_result"
    }
   ],
   "source": [
    "corr1['GLD']"
   ]
  },
  {
   "cell_type": "markdown",
   "id": "d57d1bd8",
   "metadata": {},
   "source": [
    "### Visualizing the Gold distribution"
   ]
  },
  {
   "cell_type": "code",
   "execution_count": 10,
   "id": "10558d94",
   "metadata": {},
   "outputs": [
    {
     "data": {
      "image/png": "[encoded data removed]",
      "text/plain": [
       "<Figure size 432x288 with 1 Axes>"
      ]
     },
     "metadata": {
      "needs_background": "light"
     },
     "output_type": "display_data"
    }
   ],
   "source": [
    "sns.distplot(gold_value['GLD'],color='red');"
   ]
  },
  {
   "cell_type": "markdown",
   "id": "eb25349b",
   "metadata": {},
   "source": [
    "## ML MODEL PART"
   ]
  },
  {
   "cell_type": "markdown",
   "id": "f2e96f11",
   "metadata": {},
   "source": [
    "### Splitting data into label and features\n",
    "* Features"
   ]
  },
  {
   "cell_type": "code",
   "execution_count": 11,
   "id": "d7b4c4a3",
   "metadata": {},
   "outputs": [
    {
     "data": {
      "text/html": [
       "<div>\n",
       "<style scoped>\n",
       "    .dataframe tbody tr th:only-of-type {\n",
       "        vertical-align: middle;\n",
       "    }\n",
       "\n",
       "    .dataframe tbody tr th {\n",
       "        vertical-align: top;\n",
       "    }\n",
       "\n",
       "    .dataframe thead th {\n",
       "        text-align: right;\n",
       "    }\n",
       "</style>\n",
       "<table border=\"1\" class=\"dataframe\">\n",
       "  <thead>\n",
       "    <tr style=\"text-align: right;\">\n",
       "      <th></th>\n",
       "      <th>SPX</th>\n",
       "      <th>USO</th>\n",
       "      <th>SLV</th>\n",
       "      <th>EUR/USD</th>\n",
       "    </tr>\n",
       "  </thead>\n",
       "  <tbody>\n",
       "    <tr>\n",
       "      <th>0</th>\n",
       "      <td>1447.160034</td>\n",
       "      <td>78.470001</td>\n",
       "      <td>15.1800</td>\n",
       "      <td>1.471692</td>\n",
       "    </tr>\n",
       "    <tr>\n",
       "      <th>1</th>\n",
       "      <td>1447.160034</td>\n",
       "      <td>78.370003</td>\n",
       "      <td>15.2850</td>\n",
       "      <td>1.474491</td>\n",
       "    </tr>\n",
       "    <tr>\n",
       "      <th>2</th>\n",
       "      <td>1411.630005</td>\n",
       "      <td>77.309998</td>\n",
       "      <td>15.1670</td>\n",
       "      <td>1.475492</td>\n",
       "    </tr>\n",
       "    <tr>\n",
       "      <th>3</th>\n",
       "      <td>1416.180054</td>\n",
       "      <td>75.500000</td>\n",
       "      <td>15.0530</td>\n",
       "      <td>1.468299</td>\n",
       "    </tr>\n",
       "    <tr>\n",
       "      <th>4</th>\n",
       "      <td>1390.189941</td>\n",
       "      <td>76.059998</td>\n",
       "      <td>15.5900</td>\n",
       "      <td>1.557099</td>\n",
       "    </tr>\n",
       "    <tr>\n",
       "      <th>...</th>\n",
       "      <td>...</td>\n",
       "      <td>...</td>\n",
       "      <td>...</td>\n",
       "      <td>...</td>\n",
       "    </tr>\n",
       "    <tr>\n",
       "      <th>2285</th>\n",
       "      <td>2671.919922</td>\n",
       "      <td>14.060000</td>\n",
       "      <td>15.5100</td>\n",
       "      <td>1.186789</td>\n",
       "    </tr>\n",
       "    <tr>\n",
       "      <th>2286</th>\n",
       "      <td>2697.790039</td>\n",
       "      <td>14.370000</td>\n",
       "      <td>15.5300</td>\n",
       "      <td>1.184722</td>\n",
       "    </tr>\n",
       "    <tr>\n",
       "      <th>2287</th>\n",
       "      <td>2723.070068</td>\n",
       "      <td>14.410000</td>\n",
       "      <td>15.7400</td>\n",
       "      <td>1.191753</td>\n",
       "    </tr>\n",
       "    <tr>\n",
       "      <th>2288</th>\n",
       "      <td>2730.129883</td>\n",
       "      <td>14.380000</td>\n",
       "      <td>15.5600</td>\n",
       "      <td>1.193118</td>\n",
       "    </tr>\n",
       "    <tr>\n",
       "      <th>2289</th>\n",
       "      <td>2725.780029</td>\n",
       "      <td>14.405800</td>\n",
       "      <td>15.4542</td>\n",
       "      <td>1.182033</td>\n",
       "    </tr>\n",
       "  </tbody>\n",
       "</table>\n",
       "<p>2290 rows × 4 columns</p>\n",
       "</div>"
      ],
      "text/plain": [
       "              SPX        USO      SLV   EUR/USD\n",
       "0     1447.160034  78.470001  15.1800  1.471692\n",
       "1     1447.160034  78.370003  15.2850  1.474491\n",
       "2     1411.630005  77.309998  15.1670  1.475492\n",
       "3     1416.180054  75.500000  15.0530  1.468299\n",
       "4     1390.189941  76.059998  15.5900  1.557099\n",
       "...           ...        ...      ...       ...\n",
       "2285  2671.919922  14.060000  15.5100  1.186789\n",
       "2286  2697.790039  14.370000  15.5300  1.184722\n",
       "2287  2723.070068  14.410000  15.7400  1.191753\n",
       "2288  2730.129883  14.380000  15.5600  1.193118\n",
       "2289  2725.780029  14.405800  15.4542  1.182033\n",
       "\n",
       "[2290 rows x 4 columns]"
      ]
     },
     "execution_count": 11,
     "metadata": {},
     "output_type": "execute_result"
    }
   ],
   "source": [
    "x = gold_value.drop(['Date','GLD'],axis=1)\n",
    "\n",
    "x"
   ]
  },
  {
   "cell_type": "markdown",
   "id": "60cf9bbe",
   "metadata": {},
   "source": [
    "* Label"
   ]
  },
  {
   "cell_type": "code",
   "execution_count": 12,
   "id": "eb5e7ae3",
   "metadata": {},
   "outputs": [
    {
     "data": {
      "text/plain": [
       "0        84.860001\n",
       "1        85.570000\n",
       "2        85.129997\n",
       "3        84.769997\n",
       "4        86.779999\n",
       "           ...    \n",
       "2285    124.589996\n",
       "2286    124.330002\n",
       "2287    125.180000\n",
       "2288    124.489998\n",
       "2289    122.543800\n",
       "Name: GLD, Length: 2290, dtype: float64"
      ]
     },
     "execution_count": 12,
     "metadata": {},
     "output_type": "execute_result"
    }
   ],
   "source": [
    "y = gold_value[\"GLD\"]\n",
    "\n",
    "y"
   ]
  },
  {
   "cell_type": "markdown",
   "id": "5056b051",
   "metadata": {},
   "source": [
    "### Seperating into test and training data"
   ]
  },
  {
   "cell_type": "code",
   "execution_count": 13,
   "id": "83b477a3",
   "metadata": {},
   "outputs": [],
   "source": [
    "x_train,x_test,y_train,y_test = train_test_split(x,y,test_size=0.2,random_state = 2)"
   ]
  },
  {
   "cell_type": "markdown",
   "id": "dce6aac7",
   "metadata": {},
   "source": [
    "### FIt the model in RandomForestReggression"
   ]
  },
  {
   "cell_type": "code",
   "execution_count": 14,
   "id": "ac9f527c",
   "metadata": {},
   "outputs": [],
   "source": [
    "model = RandomForestRegressor()"
   ]
  },
  {
   "cell_type": "markdown",
   "id": "ce8a6e04",
   "metadata": {},
   "source": [
    "### Train the model"
   ]
  },
  {
   "cell_type": "code",
   "execution_count": 15,
   "id": "2796a444",
   "metadata": {},
   "outputs": [
    {
     "data": {
      "text/plain": [
       "RandomForestRegressor()"
      ]
     },
     "execution_count": 15,
     "metadata": {},
     "output_type": "execute_result"
    }
   ],
   "source": [
    "model.fit(x_train,y_train)"
   ]
  },
  {
   "cell_type": "code",
   "execution_count": 16,
   "id": "58e6967f",
   "metadata": {},
   "outputs": [
    {
     "data": {
      "text/plain": [
       "0.9984001011547617"
      ]
     },
     "execution_count": 16,
     "metadata": {},
     "output_type": "execute_result"
    }
   ],
   "source": [
    "model.score(x_train,y_train)"
   ]
  },
  {
   "cell_type": "markdown",
   "id": "43aa7f98",
   "metadata": {},
   "source": [
    "## Evaluate the model\n",
    "* Making the model to predict the test data set"
   ]
  },
  {
   "cell_type": "code",
   "execution_count": 17,
   "id": "6dc5e01c",
   "metadata": {},
   "outputs": [
    {
     "data": {
      "text/plain": [
       "array([168.44499927,  82.40449956, 115.85880016, 127.64270107,\n",
       "       120.68390122, 154.72949815, 150.35649789, 126.1223    ,\n",
       "       117.44159867, 125.92680101, 116.86990089, 172.19620133,\n",
       "       141.55119862, 167.84989823, 115.07650034, 117.42710061,\n",
       "       139.68510378, 169.89460014, 159.31510282, 158.86219988,\n",
       "       155.21480031, 125.65310013, 175.46839972, 157.22130343,\n",
       "       125.23020015,  93.65729981,  78.0027001 , 120.69410006,\n",
       "       119.10959943, 167.38989979,  88.17800018, 125.28469985,\n",
       "        91.10770083, 117.83909993, 121.12069876, 136.51490025,\n",
       "       115.51810132, 115.12510078, 147.59859987, 107.2487011 ,\n",
       "       104.36130242,  87.17309793, 126.44850064, 118.13410025,\n",
       "       153.10259873, 119.55520006, 108.37279975, 108.03539778,\n",
       "        93.1463003 , 127.01119816,  75.03590023, 113.80129935,\n",
       "       121.34050014, 111.27209903, 118.83779896, 120.91129908,\n",
       "       159.06579994, 168.81130057, 147.04319652,  85.56669853,\n",
       "        94.46460052,  86.71049897,  90.41970021, 118.98430072,\n",
       "       126.4539006 , 127.55530022, 169.27740021, 122.26549912,\n",
       "       117.16169917,  98.6133999 , 168.43230152, 143.45209841,\n",
       "       132.06510247, 121.09340225, 121.22639938, 119.78670079,\n",
       "       114.58580139, 118.13330044, 107.00530113, 127.99690042,\n",
       "       113.9311996 , 107.31970004, 116.88040073, 119.45169901,\n",
       "        89.07010102,  88.31259859, 146.36310196, 127.33170045,\n",
       "       113.05150077, 109.76789857, 108.01699911,  77.82179866,\n",
       "       168.72150206, 113.96649907, 121.6301991 , 127.66270193,\n",
       "       155.12249837,  91.76609969, 134.46550118, 158.04270288,\n",
       "       125.2426003 , 125.52820076, 130.53100147, 114.97920079,\n",
       "       119.7663001 ,  92.0779999 , 110.30289888, 167.67559892,\n",
       "       156.71869919, 114.29629949, 106.60870125,  80.2407997 ,\n",
       "       113.28040028, 125.73770043, 107.28319923, 119.41000108,\n",
       "       156.08090288, 159.64039877, 120.24779967, 134.97730252,\n",
       "       101.47000005, 117.63919791, 119.36400056, 112.99790072,\n",
       "       102.7253991 , 160.45759755,  99.36860066, 148.203499  ,\n",
       "       125.72930113, 169.81269932, 125.44399946, 127.27599792,\n",
       "       127.49250157, 113.5426997 , 112.8932006 , 123.34719912,\n",
       "       102.22709884,  89.26640001, 124.64509935, 101.92569951,\n",
       "       107.24519909, 113.54090045, 117.37950068,  99.06149947,\n",
       "       121.48980067, 163.49709923,  87.31779875, 106.5740998 ,\n",
       "       117.30580087, 127.71980118, 124.24650075,  80.70989949,\n",
       "       120.49270063, 157.34199817,  88.09259935, 110.26649952,\n",
       "       118.77269914, 172.52199916, 102.9652992 , 105.41780044,\n",
       "       122.50270025, 157.94879774,  87.72259823,  93.37899978,\n",
       "       112.82810028, 176.99719942, 114.24129975, 119.28410058,\n",
       "        94.54140095, 125.74790006, 166.12890058, 114.84970038,\n",
       "       116.75320138,  88.45289859, 149.14000153, 120.36129953,\n",
       "        89.44789955, 112.34689957, 117.08190037, 118.75050123,\n",
       "        88.21469938,  94.06769978, 117.04089991, 118.77640172,\n",
       "       120.38200066, 126.85739818, 121.87889992, 149.49500014,\n",
       "       164.31710056, 118.5338993 , 120.2699013 , 150.20090091,\n",
       "       118.58629895, 173.21739872, 105.62179912, 105.01840133,\n",
       "       149.61900178, 113.77250062, 124.8217011 , 147.54799992,\n",
       "       119.64270109, 115.19400029, 112.3362998 , 113.43970206,\n",
       "       141.54550059, 117.70169801, 102.89599997, 115.81910089,\n",
       "       103.65540188,  98.74740034, 117.61650084,  90.72800009,\n",
       "        91.68010026, 153.41879857, 102.62099968, 154.67620078,\n",
       "       114.42830174, 138.562301  ,  90.22689806, 115.47209946,\n",
       "       114.33229997, 123.16020009, 121.84210038, 165.33980131,\n",
       "        92.93579933, 135.3269013 , 121.27609955, 120.8575006 ,\n",
       "       104.54640011, 141.9097031 , 121.88199895, 116.66950039,\n",
       "       113.85940052, 127.20289727, 122.64749959, 125.87579921,\n",
       "       121.2005005 ,  86.9042993 , 132.61830219, 143.23430251,\n",
       "        92.8461995 , 160.71789959, 158.70510245, 126.20469925,\n",
       "       163.80559958, 108.97109944, 110.48920114, 103.79549838,\n",
       "        94.41850056, 127.95560299, 107.04920081, 163.02829982,\n",
       "       121.47210056, 132.11909986, 130.50490134, 159.85259988,\n",
       "        90.12369823, 175.0723017 , 127.40210058, 126.71719875,\n",
       "        86.2713987 , 124.52959912, 150.30729792,  89.69510001,\n",
       "       106.86279977, 108.98249966,  84.67859898, 135.89149986,\n",
       "       154.86940197, 139.73210359,  74.14700028, 151.54090138,\n",
       "       126.31670023, 126.67909998, 127.53889888, 108.50629946,\n",
       "       156.45000037, 114.73620097, 117.04270148, 125.39869968,\n",
       "       154.25500134, 121.22159989, 156.4663988 ,  92.97990066,\n",
       "       125.37660099, 126.31260072,  87.62870006,  92.22599906,\n",
       "       126.27359899, 128.2688034 , 113.29270026, 117.68999751,\n",
       "       120.88980026, 127.18449779, 119.91970107, 136.57650028,\n",
       "        93.94049915, 120.05670041, 113.05030096,  94.35109964,\n",
       "       109.07250001,  87.66399925, 109.22229944,  89.53599979,\n",
       "        92.39440034, 131.52120298, 162.25190009,  89.26740015,\n",
       "       119.73700062, 133.29200204, 123.72559994, 128.24010136,\n",
       "       102.06269865,  88.94739885, 131.30590107, 120.17140044,\n",
       "       108.56219975, 167.71770113, 115.23630054,  86.64499926,\n",
       "       118.89130069,  90.83579967, 161.939     , 116.4892004 ,\n",
       "       121.41610024, 160.39839763, 120.11869942, 112.68219955,\n",
       "       108.3859988 , 126.68079945,  76.24010038, 102.97899967,\n",
       "       127.75930276, 121.80199929,  92.67480016, 132.32070028,\n",
       "       118.10780124, 116.23520012, 154.33150309, 159.53610091,\n",
       "       110.14699927, 152.78209798, 119.33140071, 160.35020099,\n",
       "       118.61100012, 157.31429909, 115.01199935, 116.54500036,\n",
       "       149.70609998, 114.73170059, 125.60469897, 166.07509937,\n",
       "       117.81149998, 125.03479935, 153.30230307, 153.38830288,\n",
       "       132.26940059, 114.75120038, 121.12020221, 124.51470056,\n",
       "        89.71400026, 123.46279993, 154.99300171, 111.87390039,\n",
       "       106.56689988, 161.97760167, 118.47709991, 165.74250013,\n",
       "       134.18070088, 115.00749969, 153.00289881, 168.54049943,\n",
       "       115.27900032, 114.25450084, 156.93309926,  84.95069905,\n",
       "       127.18290061, 127.90300044, 128.77319968, 123.93540047,\n",
       "       123.97710094,  90.47530037, 153.03260113,  97.02509968,\n",
       "       137.56549946,  89.05589871, 107.26240015, 114.9380005 ,\n",
       "       113.06500076, 124.52659935,  91.45229896, 125.5231013 ,\n",
       "       162.45229852, 119.83089895, 165.14660095, 126.88119814,\n",
       "       112.40649999, 127.57099932,  94.89749872,  90.8428    ,\n",
       "       103.46109904, 120.89000025,  83.03639954, 126.54000011,\n",
       "       160.55160458, 117.40150066, 118.39219983, 120.2955998 ,\n",
       "       122.82119962, 120.02670117, 121.53089986, 118.37850057,\n",
       "       107.11870015, 148.06319951, 125.955199  , 115.62500102,\n",
       "        74.13239988, 127.82940089, 153.41860052, 122.22870004,\n",
       "       125.62120072,  88.86280025, 103.26269877, 124.83830026,\n",
       "       120.23330062,  73.44450101, 151.87079988, 121.15880025,\n",
       "       104.69599987,  86.48999788, 115.13809936, 172.20739758,\n",
       "       119.94990051, 158.4741978 , 113.23549958, 121.42820001,\n",
       "       118.57260103,  95.98769991, 118.82940075, 125.89670035,\n",
       "       118.6368994 ,  95.88090072, 154.11510171, 121.73010022,\n",
       "       146.99909992, 159.70050263, 113.87399997, 122.65039919,\n",
       "       148.59489885, 127.49980031, 165.77280063, 135.59169999,\n",
       "       119.86269958, 167.34569868, 108.29139932, 121.57989888,\n",
       "       140.1393007 , 107.09389869])"
      ]
     },
     "execution_count": 17,
     "metadata": {},
     "output_type": "execute_result"
    }
   ],
   "source": [
    "gold_prediction = model.predict(x_test)\n",
    "\n",
    "gold_prediction"
   ]
  },
  {
   "cell_type": "markdown",
   "id": "f9b80f6e",
   "metadata": {},
   "source": [
    "### Compare the Predicted value and actual value"
   ]
  },
  {
   "cell_type": "markdown",
   "id": "ba8c939d",
   "metadata": {},
   "source": [
    "* R squared error\n"
   ]
  },
  {
   "cell_type": "code",
   "execution_count": 18,
   "id": "500dda63",
   "metadata": {},
   "outputs": [
    {
     "name": "stdout",
     "output_type": "stream",
     "text": [
      "R squared :  0.9887053675551112\n"
     ]
    }
   ],
   "source": [
    "error_score = metrics.r2_score(y_test,gold_prediction)\n",
    "\n",
    "print(\"R squared : \",error_score)"
   ]
  },
  {
   "cell_type": "markdown",
   "id": "5eeb5604",
   "metadata": {},
   "source": [
    "#### Gold price are in range of 100s so 0.98 error score is less \n",
    "#### Model is working well"
   ]
  },
  {
   "cell_type": "markdown",
   "id": "ccef0810",
   "metadata": {},
   "source": [
    "* Plot"
   ]
  },
  {
   "cell_type": "code",
   "execution_count": 19,
   "id": "b151bb24",
   "metadata": {},
   "outputs": [],
   "source": [
    "y_test1 = list(y_test)"
   ]
  },
  {
   "cell_type": "code",
   "execution_count": 20,
   "id": "400c826a",
   "metadata": {},
   "outputs": [
    {
     "data": {
      "image/png": "[encoded data removed]",
      "text/plain": [
       "<Figure size 432x288 with 1 Axes>"
      ]
     },
     "metadata": {
      "needs_background": "light"
     },
     "output_type": "display_data"
    }
   ],
   "source": [
    "plt.plot(gold_prediction,color=\"red\",label=\"Predicted Price\")\n",
    "plt.plot(y_test1,color=\"green\",label=\"Original Price\")\n",
    "plt.title(\"Prediction Evaluation\")\n",
    "plt.xlabel('No.of.Values')\n",
    "plt.ylabel('GOLD PRICE')\n",
    "plt.legend()\n",
    "plt.show()"
   ]
  },
  {
   "cell_type": "markdown",
   "id": "de3096ee",
   "metadata": {},
   "source": [
    "#### As it is displayed the deviation of green and red is too low\n",
    "#### Model is working well"
   ]
  },
  {
   "cell_type": "markdown",
   "id": "7a5ce85e",
   "metadata": {},
   "source": [
    "* Accuracy"
   ]
  },
  {
   "cell_type": "code",
   "execution_count": 21,
   "id": "4791e439",
   "metadata": {},
   "outputs": [
    {
     "data": {
      "text/plain": [
       "0.9887053675551112"
      ]
     },
     "execution_count": 21,
     "metadata": {},
     "output_type": "execute_result"
    }
   ],
   "source": [
    "model.score(x_test,y_test)"
   ]
  },
  {
   "cell_type": "code",
   "execution_count": null,
   "id": "a0ea9ab9",
   "metadata": {},
   "outputs": [],
   "source": []
  }
 ],
 "metadata": {
  "kernelspec": {
   "display_name": "Python 3 (ipykernel)",
   "language": "python",
   "name": "python3"
  },
  "language_info": {
   "codemirror_mode": {
    "name": "ipython",
    "version": 3
   },
   "file_extension": ".py",
   "mimetype": "text/x-python",
   "name": "python",
   "nbconvert_exporter": "python",
   "pygments_lexer": "ipython3",
   "version": "3.9.6"
  }
 },
 "nbformat": 4,
 "nbformat_minor": 5
}
